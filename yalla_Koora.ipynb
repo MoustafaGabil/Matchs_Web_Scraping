{
 "cells": [
  {
   "cell_type": "code",
   "execution_count": 121,
   "metadata": {},
   "outputs": [],
   "source": [
    "import requests\n",
    "from bs4 import BeautifulSoup\n",
    "import csv\n",
    "\n",
    "\n"
   ]
  },
  {
   "cell_type": "code",
   "execution_count": 122,
   "metadata": {},
   "outputs": [],
   "source": [
    "#date = input(\"please enter the data you want in this formate YYYY/MM/DD: \")\n",
    "\n",
    "#page = requests.get(f\"https://www.yallakora.com/match-center/Match-Center/?date={date}\")\n",
    "\n",
    "page = requests.get(f\"https://www.yallakora.com/match-center/Match-Center/?date=2024-10-02#\")\n"
   ]
  },
  {
   "cell_type": "code",
   "execution_count": 124,
   "metadata": {},
   "outputs": [
    {
     "name": "stdout",
     "output_type": "stream",
     "text": [
      "file created\n"
     ]
    }
   ],
   "source": [
    "\n",
    "def main(page):\n",
    "    scr = page.content\n",
    "    soup = BeautifulSoup(scr, \"lxml\")\n",
    "    Match_details = []\n",
    "    championships = soup.find_all(\"div\", {'class': 'matchCard'}) # passing the key and the value for the target section (filttering) It has to be wrote as dic\n",
    "    # championships is a list here.\n",
    "    def get_match_info(championships):\n",
    "        \n",
    "        championship_title = championships.contents[1].find(\"h2\").text.strip() \n",
    "        # note the .contents returns everything as a list so we have index it[1]\n",
    "        #.contents \"from the documentation\" this can convert the html or... to a list of contents \" bt7faz el content bta3 el div bta3i\"\n",
    "        #.text I just want the text inside the h2 without anything else and .strip to remove any spaces\n",
    "        \n",
    "        all_matches = championships.contents[3].find_all(\"div\", {'class': 'allData'})\n",
    "        number_of_matches =len(all_matches)\n",
    "    \n",
    "        for i in range (number_of_matches):\n",
    "            # get teams names\n",
    "            team_A = all_matches[i].find('div', {'class':'teamA'}).text.strip()\n",
    "            team_B = all_matches[i].find('div', {'class':'teamB'}).text.strip()\n",
    "            \n",
    "            #get score \n",
    "            match_result = all_matches[i].find('div', {'class':'MResult'}).find_all('span', {'class':'score'})\n",
    "            # please note, the upper line will results in a list that contains \" spans and 2 integers (please look at the script om the web page)\"\n",
    "            score = f'{match_result[0].text.strip()} - {match_result[1].text.strip()}'\n",
    "            # get time\n",
    "            time_lis = all_matches[i].find('div', {'class':'MResult'}).find_all('span', {'class':'time'})\n",
    "            time = time_lis[0].text.strip()\n",
    "           \n",
    "\n",
    "            Match_details.append({'Champion':championship_title,'First Team':team_A ,'Second Team': team_B,'Time':time,'Score':score})\n",
    "    for i in range(len(championships)):\n",
    "        \n",
    "        get_match_info(championships[i])\n",
    "        \n",
    "    keys = Match_details[0].keys()\n",
    "    \n",
    "    with open('C:\\\\Users\\\\mgabi\\\\Desktop\\\\becode\\\\practcing outside\\\\Matchs_Web_Scraping\\\\matches_details.csv', 'w', encoding='utf-8') as output_file:\n",
    "        dict_writer = csv.DictWriter(output_file,keys)\n",
    "        dict_writer.writeheader()                                # read the documentation of csv module and its methods\n",
    "        dict_writer.writerows(Match_details)\n",
    "        print(\"file created\")\n",
    "\n",
    "main(page)\n",
    "\n"
   ]
  },
  {
   "cell_type": "code",
   "execution_count": null,
   "metadata": {},
   "outputs": [],
   "source": []
  },
  {
   "cell_type": "code",
   "execution_count": null,
   "metadata": {},
   "outputs": [],
   "source": []
  }
 ],
 "metadata": {
  "kernelspec": {
   "display_name": "Python 3",
   "language": "python",
   "name": "python3"
  },
  "language_info": {
   "codemirror_mode": {
    "name": "ipython",
    "version": 3
   },
   "file_extension": ".py",
   "mimetype": "text/x-python",
   "name": "python",
   "nbconvert_exporter": "python",
   "pygments_lexer": "ipython3",
   "version": "3.12.4"
  }
 },
 "nbformat": 4,
 "nbformat_minor": 2
}
